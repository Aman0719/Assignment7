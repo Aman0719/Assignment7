{
 "cells": [
  {
   "cell_type": "code",
   "execution_count": 3,
   "id": "519088a1-aca9-4b56-a8e7-f6485d7d19c0",
   "metadata": {},
   "outputs": [
    {
     "name": "stdout",
     "output_type": "stream",
     "text": [
      "0\n"
     ]
    }
   ],
   "source": [
    "#Q1. Create a function which will take a list as an argument and return the product of all the numbers after creating a flat list.\n",
    "#Use the below-given list as an argument for your function.\n",
    "\n",
    "list1 = [1,2,3,4, [44,55,66, True], False, (34,56,78,89,34), {1,2,3,3,2,1}, {1:34, \"key2\": [55, 67, 78, 89], 4: (45,\n",
    "22, 61, 34)}, [56, 'data science'], 'Machine Learning']\n",
    "\n",
    "def product_of_numbers(list1):\n",
    "    flat_list = []\n",
    "    for item in list1:\n",
    "        if isinstance(item, (list, tuple, set)):\n",
    "            flat_list.extend([x for x in item if isinstance(x, (int, float))])\n",
    "        elif isinstance(item, dict):\n",
    "            for value in item.values():\n",
    "                if isinstance(value, (int, float)):\n",
    "                    flat_list.append(value)\n",
    "                elif isinstance(value, list):\n",
    "                    flat_list.extend([x for x in value if isinstance(x, (int, float))])\n",
    "        elif isinstance(item, (int, float)):\n",
    "            flat_list.append(item)\n",
    "    product = 1\n",
    "    for num in flat_list:\n",
    "        product *= num\n",
    "    return product\n",
    "\n",
    "result = product_of_numbers(list1)\n",
    "print(result)\n",
    "\n",
    "#The product of the flat list will be 0, as it conatin boolean number which has value 0 in system, (False=0)"
   ]
  },
  {
   "cell_type": "code",
   "execution_count": 5,
   "id": "73a25cd3-bbbe-40f8-884e-dbe59529079a",
   "metadata": {},
   "outputs": [
    {
     "name": "stdout",
     "output_type": "stream",
     "text": [
      "503432570520426721266892800\n"
     ]
    }
   ],
   "source": [
    "#But if we want to get product of numbers without boolean numbers, we just need to remove boolean values from the list.\n",
    "#and create new list with name flat_list1.\n",
    "\n",
    "list1 = [1,2,3,4, [44,55,66, True], False, (34,56,78,89,34), {1,2,3,3,2,1}, {1:34, \"key2\": [55, 67, 78, 89], 4: (45,\n",
    "22, 61, 34)}, [56, 'data science'], 'Machine Learning']\n",
    "\n",
    "def product_of_numbers(list1):\n",
    "    flat_list = []\n",
    "    for item in list1:\n",
    "        if isinstance(item, (list, tuple, set)):\n",
    "            flat_list.extend([x for x in item if isinstance(x, (int, float))])\n",
    "        elif isinstance(item, dict):\n",
    "            for value in item.values():\n",
    "                if isinstance(value, (int, float)):\n",
    "                    flat_list.append(value)\n",
    "                elif isinstance(value, list):\n",
    "                    flat_list.extend([x for x in value if isinstance(x, (int, float))])\n",
    "        elif isinstance(item, (int, float)):\n",
    "            flat_list.append(item)\n",
    "   \n",
    "    #remove bolean values from the list\n",
    "    flat_list1 = [x for x in flat_list if not isinstance(x, bool)]       \n",
    "    product = 1\n",
    "    for num in flat_list1:\n",
    "        product *= num\n",
    "    return product\n",
    "\n",
    "result = product_of_numbers(list1)\n",
    "print(result)"
   ]
  },
  {
   "cell_type": "code",
   "execution_count": 6,
   "id": "d640e974-30cd-45ba-ad96-e8b7ddc4854b",
   "metadata": {},
   "outputs": [
    {
     "name": "stdout",
     "output_type": "stream",
     "text": [
      "r$dzmg$gl$yvxlnv$z$wzgz$hxrvmgrhg.\n"
     ]
    }
   ],
   "source": [
    "#Q2. Q2. Write a python program for encrypting a message sent to you by your friend. The logic of encryption should be such that, for a the output should be z. For b, the output should be y. For c, the output should be x respectively. Also, the whitespace should be replaced with a dollar sign. Keep the punctuation marks unchanged.\n",
    "#Input Sentence: I want to become a Data Scientist.\n",
    "#Encrypt the above input sentence using the program you just created.\n",
    "#Note: Convert the given input sentence into lowercase before encrypting. The final output should be lowercase.\n",
    "\n",
    "#Ans-\n",
    "\n",
    "def encrypt_message(message):\n",
    "    message = message.lower()\n",
    "    encrypted_message = \"\"\n",
    "    for char in message:\n",
    "        if char == \" \":\n",
    "            encrypted_message += \"$\"  # replace whitespace with $\n",
    "        elif char.isalpha():\n",
    "            encrypted_char = chr(ord(\"a\") + (25 - (ord(char) - ord(\"a\"))))  # use encryption logic\n",
    "            encrypted_message += encrypted_char\n",
    "        else:\n",
    "            encrypted_message += char  # keep punctuation marks unchanged\n",
    "    return encrypted_message\n",
    "\n",
    "# example usage\n",
    "input_sentence = \"I want to become a Data Scientist.\"\n",
    "encrypted_sentence = encrypt_message(input_sentence)\n",
    "print(encrypted_sentence)\n"
   ]
  },
  {
   "cell_type": "code",
   "execution_count": null,
   "id": "f1216e1d-c91b-44ab-83a1-507241a57be6",
   "metadata": {},
   "outputs": [],
   "source": []
  }
 ],
 "metadata": {
  "kernelspec": {
   "display_name": "Python 3 (ipykernel)",
   "language": "python",
   "name": "python3"
  },
  "language_info": {
   "codemirror_mode": {
    "name": "ipython",
    "version": 3
   },
   "file_extension": ".py",
   "mimetype": "text/x-python",
   "name": "python",
   "nbconvert_exporter": "python",
   "pygments_lexer": "ipython3",
   "version": "3.10.8"
  }
 },
 "nbformat": 4,
 "nbformat_minor": 5
}
